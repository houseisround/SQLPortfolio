{
  "metadata": {
    "kernelspec": {
      "name": "SQLite",
      "display_name": "SQLite",
      "language": "sql"
    },
    "language_info": {
      "codemirror_mode": "sql",
      "file_extension": "",
      "mimetype": "",
      "name": "sql",
      "version": "3.32.3"
    }
  },
  "nbformat_minor": 4,
  "nbformat": 4,
  "cells": [
    {
      "cell_type": "code",
      "source": "%CREATE first_db.db",
      "metadata": {
        "trusted": true
      },
      "outputs": [],
      "execution_count": 53
    },
    {
      "cell_type": "code",
      "source": "CREATE TABLE t1(\n    date int,\n    login varchar(10),\n    fio varchar(40)\n)",
      "metadata": {
        "trusted": true
      },
      "outputs": [],
      "execution_count": 54
    },
    {
      "cell_type": "code",
      "source": "insert into t1\nvalues \n    (1, 'mike', 'mikemikemike'),\n    (2, 'mike1', 'mike1mike1mike1'),\n    (3, 'mike2', 'mike2mike2mike2')",
      "metadata": {
        "trusted": true
      },
      "outputs": [],
      "execution_count": 55
    },
    {
      "cell_type": "code",
      "source": "select * from t1",
      "metadata": {
        "trusted": true
      },
      "outputs": [
        {
          "execution_count": 56,
          "output_type": "execute_result",
          "data": {
            "text/html": "<table>\n<tr>\n<th>date</th>\n<th>login</th>\n<th>fio</th>\n</tr>\n<tr>\n<td>1</td>\n<td>mike</td>\n<td>mikemikemike</td>\n</tr>\n<tr>\n<td>2</td>\n<td>mike1</td>\n<td>mike1mike1mike1</td>\n</tr>\n<tr>\n<td>3</td>\n<td>mike2</td>\n<td>mike2mike2mike2</td>\n</tr>\n</table>",
            "text/plain": "+------+-------+-----------------+\n| date | login | fio             |\n+------+-------+-----------------+\n| 1    | mike  | mikemikemike    |\n+------+-------+-----------------+\n| 2    | mike1 | mike1mike1mike1 |\n+------+-------+-----------------+\n| 3    | mike2 | mike2mike2mike2 |\n+------+-------+-----------------+"
          },
          "metadata": {}
        }
      ],
      "execution_count": 56
    },
    {
      "cell_type": "code",
      "source": "CREATE TABLE t2(\n    login varchar(10),\n    tabel int,\n    city varchar(40)\n)",
      "metadata": {
        "trusted": true
      },
      "outputs": [],
      "execution_count": 57
    },
    {
      "cell_type": "code",
      "source": "insert into t2\nvalues\n    ('mike', 123, 'moskva'),\n    ('mike1', 124, 'moskva1'),\n    ('mike2', 125, 'moskva2')",
      "metadata": {
        "trusted": true
      },
      "outputs": [],
      "execution_count": 58
    },
    {
      "cell_type": "code",
      "source": "select * from t2",
      "metadata": {
        "trusted": true
      },
      "outputs": [
        {
          "execution_count": 59,
          "output_type": "execute_result",
          "data": {
            "text/html": "<table>\n<tr>\n<th>login</th>\n<th>tabel</th>\n<th>city</th>\n</tr>\n<tr>\n<td>mike</td>\n<td>123</td>\n<td>moskva</td>\n</tr>\n<tr>\n<td>mike1</td>\n<td>124</td>\n<td>moskva1</td>\n</tr>\n<tr>\n<td>mike2</td>\n<td>125</td>\n<td>moskva2</td>\n</tr>\n</table>",
            "text/plain": "+-------+-------+---------+\n| login | tabel | city    |\n+-------+-------+---------+\n| mike  | 123   | moskva  |\n+-------+-------+---------+\n| mike1 | 124   | moskva1 |\n+-------+-------+---------+\n| mike2 | 125   | moskva2 |\n+-------+-------+---------+"
          },
          "metadata": {}
        }
      ],
      "execution_count": 59
    },
    {
      "cell_type": "code",
      "source": "CREATE TABLE t3(\n    tabel int,\n    level int,\n    award int\n)",
      "metadata": {
        "trusted": true
      },
      "outputs": [],
      "execution_count": 60
    },
    {
      "cell_type": "code",
      "source": "insert into t3\nvalues\n    (123, 13, 1000),\n    (124, 14, 2000),\n    (125, 15, 3000)",
      "metadata": {
        "trusted": true
      },
      "outputs": [],
      "execution_count": 61
    },
    {
      "cell_type": "code",
      "source": "select * from t3",
      "metadata": {
        "trusted": true
      },
      "outputs": [
        {
          "execution_count": 62,
          "output_type": "execute_result",
          "data": {
            "text/html": "<table>\n<tr>\n<th>tabel</th>\n<th>level</th>\n<th>award</th>\n</tr>\n<tr>\n<td>123</td>\n<td>13</td>\n<td>1000</td>\n</tr>\n<tr>\n<td>124</td>\n<td>14</td>\n<td>2000</td>\n</tr>\n<tr>\n<td>125</td>\n<td>15</td>\n<td>3000</td>\n</tr>\n</table>",
            "text/plain": "+-------+-------+-------+\n| tabel | level | award |\n+-------+-------+-------+\n| 123   | 13    | 1000  |\n+-------+-------+-------+\n| 124   | 14    | 2000  |\n+-------+-------+-------+\n| 125   | 15    | 3000  |\n+-------+-------+-------+"
          },
          "metadata": {}
        }
      ],
      "execution_count": 62
    },
    {
      "cell_type": "code",
      "source": "",
      "metadata": {
        "trusted": true
      },
      "outputs": [],
      "execution_count": null
    }
  ]
}