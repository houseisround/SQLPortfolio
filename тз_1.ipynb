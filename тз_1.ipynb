{
  "metadata": {
    "kernelspec": {
      "name": "SQLite",
      "display_name": "SQLite",
      "language": "sql"
    },
    "language_info": {
      "codemirror_mode": "sql",
      "file_extension": "",
      "mimetype": "",
      "name": "sql",
      "version": "3.32.3"
    }
  },
  "nbformat_minor": 4,
  "nbformat": 4,
  "cells": [
    {
      "cell_type": "code",
      "source": "%CREATE scenario.db ",
      "metadata": {
        "trusted": true
      },
      "outputs": [],
      "execution_count": 9
    },
    {
      "cell_type": "code",
      "source": "create table scenario (\n    scenario_id int,\n    created_at date,\n    name varchar(40)\n)",
      "metadata": {
        "trusted": true
      },
      "outputs": [],
      "execution_count": 10
    },
    {
      "cell_type": "code",
      "source": "insert into scenario\nvalues \n    (0,'2022-01-01', 'balance_inbot'), \n    (1,'2022-01-02', 'application_new_inbot')",
      "metadata": {
        "trusted": true
      },
      "outputs": [],
      "execution_count": 11
    },
    {
      "cell_type": "code",
      "source": "select * from scenario",
      "metadata": {
        "trusted": true
      },
      "outputs": [
        {
          "execution_count": 12,
          "output_type": "execute_result",
          "data": {
            "text/html": "<table>\n<tr>\n<th>scenario_id</th>\n<th>created_at</th>\n<th>name</th>\n</tr>\n<tr>\n<td>0</td>\n<td>2022-01-01</td>\n<td>balance_inbot</td>\n</tr>\n<tr>\n<td>1</td>\n<td>2022-01-02</td>\n<td>application_new_inbot</td>\n</tr>\n</table>",
            "text/plain": "+-------------+------------+-----------------------+\n| scenario_id | created_at | name                  |\n+-------------+------------+-----------------------+\n| 0           | 2022-01-01 | balance_inbot         |\n+-------------+------------+-----------------------+\n| 1           | 2022-01-02 | application_new_inbot |\n+-------------+------------+-----------------------+"
          },
          "metadata": {}
        }
      ],
      "execution_count": 12
    },
    {
      "cell_type": "code",
      "source": "create table scenario_run (\n    scenario_run_id int,\n    scenario_id int,\n    created_at date,\n    tcrm_id int\n)",
      "metadata": {
        "trusted": true
      },
      "outputs": [],
      "execution_count": 13
    },
    {
      "cell_type": "code",
      "source": "insert into scenario_run\nvalues \n    (1, 0, '2023-04-01', 0), \n    (2, 1, '2023-04-01', 1), \n    (3, 1, '2023-04-01', 1), \n    (4, 1, '2023-04-02', 1),\n    (5, 0, '2023-04-01', 0),\n    (6, 0, '2023-04-02', 0),\n    (7, 0, '2023-04-02', 0),\n    (8, 0, '2023-04-02', 0),\n    (9, 1, '2023-04-02', 1)",
      "metadata": {
        "trusted": true
      },
      "outputs": [],
      "execution_count": 17
    },
    {
      "cell_type": "code",
      "source": "select * from scenario_run",
      "metadata": {
        "trusted": true
      },
      "outputs": [
        {
          "execution_count": 18,
          "output_type": "execute_result",
          "data": {
            "text/html": "<table>\n<tr>\n<th>scenario_run_id</th>\n<th>scenario_id</th>\n<th>created_at</th>\n<th>tcrm_id</th>\n</tr>\n<tr>\n<td>1</td>\n<td>0</td>\n<td>2023-04-01</td>\n<td>0</td>\n</tr>\n<tr>\n<td>2</td>\n<td>1</td>\n<td>2023-04-01</td>\n<td>1</td>\n</tr>\n<tr>\n<td>3</td>\n<td>1</td>\n<td>2023-04-01</td>\n<td>1</td>\n</tr>\n<tr>\n<td>4</td>\n<td>1</td>\n<td>2023-04-02</td>\n<td>1</td>\n</tr>\n<tr>\n<td>5</td>\n<td>0</td>\n<td>2023-04-01</td>\n<td>0</td>\n</tr>\n<tr>\n<td>6</td>\n<td>0</td>\n<td>2023-04-02</td>\n<td>0</td>\n</tr>\n<tr>\n<td>7</td>\n<td>0</td>\n<td>2023-04-02</td>\n<td>0</td>\n</tr>\n<tr>\n<td>8</td>\n<td>0</td>\n<td>2023-04-02</td>\n<td>0</td>\n</tr>\n<tr>\n<td>9</td>\n<td>1</td>\n<td>2023-04-02</td>\n<td>1</td>\n</tr>\n</table>",
            "text/plain": "+-----------------+-------------+------------+---------+\n| scenario_run_id | scenario_id | created_at | tcrm_id |\n+-----------------+-------------+------------+---------+\n| 1               | 0           | 2023-04-01 | 0       |\n+-----------------+-------------+------------+---------+\n| 2               | 1           | 2023-04-01 | 1       |\n+-----------------+-------------+------------+---------+\n| 3               | 1           | 2023-04-01 | 1       |\n+-----------------+-------------+------------+---------+\n| 4               | 1           | 2023-04-02 | 1       |\n+-----------------+-------------+------------+---------+\n| 5               | 0           | 2023-04-01 | 0       |\n+-----------------+-------------+------------+---------+\n| 6               | 0           | 2023-04-02 | 0       |\n+-----------------+-------------+------------+---------+\n| 7               | 0           | 2023-04-02 | 0       |\n+-----------------+-------------+------------+---------+\n| 8               | 0           | 2023-04-02 | 0       |\n+-----------------+-------------+------------+---------+\n| 9               | 1           | 2023-04-02 | 1       |\n+-----------------+-------------+------------+---------+"
          },
          "metadata": {}
        }
      ],
      "execution_count": 18
    },
    {
      "cell_type": "code",
      "source": "select scenario_run.created_at, scenario.name\nfrom scenario join scenario_run on scenario.scenario_id = scenario_run.scenario_id\n",
      "metadata": {
        "trusted": true
      },
      "outputs": [
        {
          "execution_count": 20,
          "output_type": "execute_result",
          "data": {
            "text/html": "<table>\n<tr>\n<th>created_at</th>\n<th>name</th>\n</tr>\n<tr>\n<td>2023-04-01</td>\n<td>balance_inbot</td>\n</tr>\n<tr>\n<td>2023-04-01</td>\n<td>balance_inbot</td>\n</tr>\n<tr>\n<td>2023-04-02</td>\n<td>balance_inbot</td>\n</tr>\n<tr>\n<td>2023-04-02</td>\n<td>balance_inbot</td>\n</tr>\n<tr>\n<td>2023-04-02</td>\n<td>balance_inbot</td>\n</tr>\n<tr>\n<td>2023-04-01</td>\n<td>application_new_inbot</td>\n</tr>\n<tr>\n<td>2023-04-01</td>\n<td>application_new_inbot</td>\n</tr>\n<tr>\n<td>2023-04-02</td>\n<td>application_new_inbot</td>\n</tr>\n<tr>\n<td>2023-04-02</td>\n<td>application_new_inbot</td>\n</tr>\n</table>",
            "text/plain": "+------------+-----------------------+\n| created_at | name                  |\n+------------+-----------------------+\n| 2023-04-01 | balance_inbot         |\n+------------+-----------------------+\n| 2023-04-01 | balance_inbot         |\n+------------+-----------------------+\n| 2023-04-02 | balance_inbot         |\n+------------+-----------------------+\n| 2023-04-02 | balance_inbot         |\n+------------+-----------------------+\n| 2023-04-02 | balance_inbot         |\n+------------+-----------------------+\n| 2023-04-01 | application_new_inbot |\n+------------+-----------------------+\n| 2023-04-01 | application_new_inbot |\n+------------+-----------------------+\n| 2023-04-02 | application_new_inbot |\n+------------+-----------------------+\n| 2023-04-02 | application_new_inbot |\n+------------+-----------------------+"
          },
          "metadata": {}
        }
      ],
      "execution_count": 20
    },
    {
      "cell_type": "code",
      "source": "",
      "metadata": {
        "trusted": true
      },
      "outputs": [],
      "execution_count": null
    }
  ]
}