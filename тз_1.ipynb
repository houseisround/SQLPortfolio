{
  "metadata": {
    "kernelspec": {
      "name": "SQLite",
      "display_name": "SQLite",
      "language": "sql"
    },
    "language_info": {
      "codemirror_mode": "sql",
      "file_extension": "",
      "mimetype": "",
      "name": "sql",
      "version": "3.32.3"
    }
  },
  "nbformat_minor": 4,
  "nbformat": 4,
  "cells": [
    {
      "cell_type": "code",
      "source": "%CREATE scenario.db ",
      "metadata": {
        "trusted": true
      },
      "outputs": [],
      "execution_count": 2
    },
    {
      "cell_type": "code",
      "source": "create table scenario (\n    scenario_id int,\n    created_at date,\n    name varchar(40)\n)",
      "metadata": {
        "trusted": true
      },
      "outputs": [],
      "execution_count": 3
    },
    {
      "cell_type": "code",
      "source": "insert into scenario\nvalues \n    (0,'2022-01-01', 'balance_inbot'), \n    (1,'2022-01-02', 'application_new_inbot')",
      "metadata": {
        "trusted": true
      },
      "outputs": [],
      "execution_count": 4
    },
    {
      "cell_type": "code",
      "source": "select * from scenario",
      "metadata": {
        "trusted": true
      },
      "outputs": [
        {
          "execution_count": 5,
          "output_type": "execute_result",
          "data": {
            "text/html": "<table>\n<tr>\n<th>scenario_id</th>\n<th>created_at</th>\n<th>name</th>\n</tr>\n<tr>\n<td>0</td>\n<td>2022-01-01</td>\n<td>balance_inbot</td>\n</tr>\n<tr>\n<td>1</td>\n<td>2022-01-02</td>\n<td>application_new_inbot</td>\n</tr>\n</table>",
            "text/plain": "+-------------+------------+-----------------------+\n| scenario_id | created_at | name                  |\n+-------------+------------+-----------------------+\n| 0           | 2022-01-01 | balance_inbot         |\n+-------------+------------+-----------------------+\n| 1           | 2022-01-02 | application_new_inbot |\n+-------------+------------+-----------------------+"
          },
          "metadata": {}
        }
      ],
      "execution_count": 5
    },
    {
      "cell_type": "code",
      "source": "create table scenario_run (\n    scenario_run_id int,\n    scenario_id int,\n    created_at date,\n    tcrm_id int\n)",
      "metadata": {
        "trusted": true
      },
      "outputs": [],
      "execution_count": 6
    },
    {
      "cell_type": "code",
      "source": "insert into scenario_run\nvalues \n    (1, 0, '2023-04-01', 0), \n    (2, 1, '2023-04-01', 1), \n    (3, 1, '2023-04-01', 1), \n    (4, 1, '2023-04-02', 1),\n    (5, 0, '2023-04-01', 0),\n    (6, 0, '2023-04-02', 0),\n    (7, 0, '2023-04-02', 0),\n    (8, 0, '2023-04-02', 0),\n    (9, 1, '2023-04-02', 1)",
      "metadata": {
        "trusted": true
      },
      "outputs": [],
      "execution_count": 7
    },
    {
      "cell_type": "code",
      "source": "select * from scenario_run",
      "metadata": {
        "trusted": true
      },
      "outputs": [
        {
          "execution_count": 8,
          "output_type": "execute_result",
          "data": {
            "text/html": "<table>\n<tr>\n<th>scenario_run_id</th>\n<th>scenario_id</th>\n<th>created_at</th>\n<th>tcrm_id</th>\n</tr>\n<tr>\n<td>1</td>\n<td>0</td>\n<td>2023-04-01</td>\n<td>0</td>\n</tr>\n<tr>\n<td>2</td>\n<td>1</td>\n<td>2023-04-01</td>\n<td>1</td>\n</tr>\n<tr>\n<td>3</td>\n<td>1</td>\n<td>2023-04-01</td>\n<td>1</td>\n</tr>\n<tr>\n<td>4</td>\n<td>1</td>\n<td>2023-04-02</td>\n<td>1</td>\n</tr>\n<tr>\n<td>5</td>\n<td>0</td>\n<td>2023-04-01</td>\n<td>0</td>\n</tr>\n<tr>\n<td>6</td>\n<td>0</td>\n<td>2023-04-02</td>\n<td>0</td>\n</tr>\n<tr>\n<td>7</td>\n<td>0</td>\n<td>2023-04-02</td>\n<td>0</td>\n</tr>\n<tr>\n<td>8</td>\n<td>0</td>\n<td>2023-04-02</td>\n<td>0</td>\n</tr>\n<tr>\n<td>9</td>\n<td>1</td>\n<td>2023-04-02</td>\n<td>1</td>\n</tr>\n</table>",
            "text/plain": "+-----------------+-------------+------------+---------+\n| scenario_run_id | scenario_id | created_at | tcrm_id |\n+-----------------+-------------+------------+---------+\n| 1               | 0           | 2023-04-01 | 0       |\n+-----------------+-------------+------------+---------+\n| 2               | 1           | 2023-04-01 | 1       |\n+-----------------+-------------+------------+---------+\n| 3               | 1           | 2023-04-01 | 1       |\n+-----------------+-------------+------------+---------+\n| 4               | 1           | 2023-04-02 | 1       |\n+-----------------+-------------+------------+---------+\n| 5               | 0           | 2023-04-01 | 0       |\n+-----------------+-------------+------------+---------+\n| 6               | 0           | 2023-04-02 | 0       |\n+-----------------+-------------+------------+---------+\n| 7               | 0           | 2023-04-02 | 0       |\n+-----------------+-------------+------------+---------+\n| 8               | 0           | 2023-04-02 | 0       |\n+-----------------+-------------+------------+---------+\n| 9               | 1           | 2023-04-02 | 1       |\n+-----------------+-------------+------------+---------+"
          },
          "metadata": {}
        }
      ],
      "execution_count": 8
    },
    {
      "cell_type": "code",
      "source": "select \n    sr.created_at,\n    s.name,\n    count(sr.scenario_id),\n    SUM(count(sr.scenario_id)) OVER (ORDER BY sr.created_at) AS cumulative_call_count\nfrom scenario s\n    join scenario_run sr\n    on s.scenario_id = sr.scenario_id\ngroup by \n    s.name, \n    sr.created_at\norder by\n    s.name, \n    sr.created_at",
      "metadata": {
        "trusted": true
      },
      "outputs": [
        {
          "execution_count": 21,
          "output_type": "execute_result",
          "data": {
            "text/html": "<table>\n<tr>\n<th>created_at</th>\n<th>name</th>\n<th>count(sr.scenario_id)</th>\n<th>cumulative_call_count</th>\n</tr>\n<tr>\n<td>2023-04-01</td>\n<td>application_new_inbot</td>\n<td>2</td>\n<td>4</td>\n</tr>\n<tr>\n<td>2023-04-02</td>\n<td>application_new_inbot</td>\n<td>2</td>\n<td>9</td>\n</tr>\n<tr>\n<td>2023-04-01</td>\n<td>balance_inbot</td>\n<td>2</td>\n<td>4</td>\n</tr>\n<tr>\n<td>2023-04-02</td>\n<td>balance_inbot</td>\n<td>3</td>\n<td>9</td>\n</tr>\n</table>",
            "text/plain": "+------------+-----------------------+-----------------------+-----------------------+\n| created_at | name                  | count(sr.scenario_id) | cumulative_call_count |\n+------------+-----------------------+-----------------------+-----------------------+\n| 2023-04-01 | application_new_inbot | 2                     | 4                     |\n+------------+-----------------------+-----------------------+-----------------------+\n| 2023-04-02 | application_new_inbot | 2                     | 9                     |\n+------------+-----------------------+-----------------------+-----------------------+\n| 2023-04-01 | balance_inbot         | 2                     | 4                     |\n+------------+-----------------------+-----------------------+-----------------------+\n| 2023-04-02 | balance_inbot         | 3                     | 9                     |\n+------------+-----------------------+-----------------------+-----------------------+"
          },
          "metadata": {}
        }
      ],
      "execution_count": 21
    },
    {
      "cell_type": "code",
      "source": "",
      "metadata": {
        "trusted": true
      },
      "outputs": [],
      "execution_count": null
    },
    {
      "cell_type": "code",
      "source": "",
      "metadata": {
        "trusted": true
      },
      "outputs": [],
      "execution_count": null
    },
    {
      "cell_type": "code",
      "source": "",
      "metadata": {
        "trusted": true
      },
      "outputs": [],
      "execution_count": null
    }
  ]
}