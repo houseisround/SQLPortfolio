{
  "metadata": {
    "kernelspec": {
      "name": "SQLite",
      "display_name": "SQLite",
      "language": "sql"
    },
    "language_info": {
      "codemirror_mode": "sql",
      "file_extension": "",
      "mimetype": "",
      "name": "sql",
      "version": "3.32.3"
    }
  },
  "nbformat_minor": 4,
  "nbformat": 4,
  "cells": [
    {
      "cell_type": "code",
      "source": "%CREATE scenario.db ",
      "metadata": {
        "trusted": true
      },
      "outputs": [],
      "execution_count": 1
    },
    {
      "cell_type": "code",
      "source": "create table scenario (\n    scenario_id int,\n    created_at date,\n    name varchar(40)\n)",
      "metadata": {
        "trusted": true
      },
      "outputs": [],
      "execution_count": 2
    },
    {
      "cell_type": "code",
      "source": "insert into scenario\nvalues \n    (0,'2023-04-01', 'balance_inbot'), \n    (1,'2023-04-02', 'balance_inbot'), \n    (2,'2023-04-03', 'balance_inbot'), \n    (3,'2023-04-04', 'balance_inbot'),\n    (4,'2023-04-01', 'application_new_inbot'), \n    (5,'2023-04-02', 'application_new_inbot'), \n    (6,'2023-04-03', 'application_new_inbot'), \n    (7,'2023-04-04', 'application_new_inbot')",
      "metadata": {
        "trusted": true
      },
      "outputs": [],
      "execution_count": 3
    },
    {
      "cell_type": "code",
      "source": "select * from scenario",
      "metadata": {
        "trusted": true
      },
      "outputs": [
        {
          "execution_count": 4,
          "output_type": "execute_result",
          "data": {
            "text/html": "<table>\n<tr>\n<th>scenario_id</th>\n<th>created_at</th>\n<th>name</th>\n</tr>\n<tr>\n<td>0</td>\n<td>2023-04-01</td>\n<td>balance_inbot</td>\n</tr>\n<tr>\n<td>1</td>\n<td>2023-04-02</td>\n<td>balance_inbot</td>\n</tr>\n<tr>\n<td>2</td>\n<td>2023-04-03</td>\n<td>balance_inbot</td>\n</tr>\n<tr>\n<td>3</td>\n<td>2023-04-04</td>\n<td>balance_inbot</td>\n</tr>\n<tr>\n<td>4</td>\n<td>2023-04-01</td>\n<td>application_new_inbot</td>\n</tr>\n<tr>\n<td>5</td>\n<td>2023-04-02</td>\n<td>application_new_inbot</td>\n</tr>\n<tr>\n<td>6</td>\n<td>2023-04-03</td>\n<td>application_new_inbot</td>\n</tr>\n<tr>\n<td>7</td>\n<td>2023-04-04</td>\n<td>application_new_inbot</td>\n</tr>\n</table>",
            "text/plain": "+-------------+------------+-----------------------+\n| scenario_id | created_at | name                  |\n+-------------+------------+-----------------------+\n| 0           | 2023-04-01 | balance_inbot         |\n+-------------+------------+-----------------------+\n| 1           | 2023-04-02 | balance_inbot         |\n+-------------+------------+-----------------------+\n| 2           | 2023-04-03 | balance_inbot         |\n+-------------+------------+-----------------------+\n| 3           | 2023-04-04 | balance_inbot         |\n+-------------+------------+-----------------------+\n| 4           | 2023-04-01 | application_new_inbot |\n+-------------+------------+-----------------------+\n| 5           | 2023-04-02 | application_new_inbot |\n+-------------+------------+-----------------------+\n| 6           | 2023-04-03 | application_new_inbot |\n+-------------+------------+-----------------------+\n| 7           | 2023-04-04 | application_new_inbot |\n+-------------+------------+-----------------------+"
          },
          "metadata": {}
        }
      ],
      "execution_count": 4
    },
    {
      "cell_type": "code",
      "source": "create table scenario_run (\n    scenario_run_id int,\n    scenario_id int,\n    created_at date,\n    tcrm_id int\n)",
      "metadata": {
        "trusted": true
      },
      "outputs": [],
      "execution_count": 9
    },
    {
      "cell_type": "code",
      "source": "insert into scenario_run\nvalues \n    (), \n    (), \n    (), \n    ()",
      "metadata": {
        "trusted": true
      },
      "outputs": [],
      "execution_count": null
    },
    {
      "cell_type": "code",
      "source": "",
      "metadata": {
        "trusted": true
      },
      "outputs": [],
      "execution_count": null
    },
    {
      "cell_type": "code",
      "source": "",
      "metadata": {
        "trusted": true
      },
      "outputs": [],
      "execution_count": null
    }
  ]
}