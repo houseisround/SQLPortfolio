{
  "metadata": {
    "kernelspec": {
      "name": "SQLite",
      "display_name": "SQLite",
      "language": "sql"
    },
    "language_info": {
      "codemirror_mode": "sql",
      "file_extension": "",
      "mimetype": "",
      "name": "sql",
      "version": "3.32.3"
    }
  },
  "nbformat_minor": 4,
  "nbformat": 4,
  "cells": [
    {
      "cell_type": "code",
      "source": "%CREATE first_db.db",
      "metadata": {
        "trusted": true
      },
      "outputs": [],
      "execution_count": 9
    },
    {
      "cell_type": "code",
      "source": "CREATE TABLE pk \n    (id int,\n    Name varchar(40), \n    Type_1 varchar(10), \n    Type_2 varchar(10), \n    HP int,\n    Attack int)",
      "metadata": {
        "trusted": true
      },
      "outputs": [],
      "execution_count": 10
    },
    {
      "cell_type": "code",
      "source": "insert into pk( id, Name, Type_1, Type_2, HP, Attack)\nvalues (0, 'Bulbasaur', 'Grass', 'Poison', 45,\t49),\n(1,\t'Ivysaur',\t'Grass', 'Poison', 60, 62),\n(2, 'Venusaur',\t'Grass', 'Poison', 80, 82),\n(3, 'VenusaurMega', 'Grass', 'Poison', 80, 100),\n(4, null, null, null, null, null),\n(5, null, null, null, null, null),\n(6, null, null, null, null, null),\n(7, null, null, null, null, null)",
      "metadata": {
        "trusted": true
      },
      "outputs": [],
      "execution_count": 11
    },
    {
      "cell_type": "code",
      "source": "select * from pk",
      "metadata": {
        "trusted": true
      },
      "outputs": [
        {
          "execution_count": 12,
          "output_type": "execute_result",
          "data": {
            "text/html": "<table>\n<tr>\n<th>id</th>\n<th>Name</th>\n<th>Type_1</th>\n<th>Type_2</th>\n<th>HP</th>\n<th>Attack</th>\n</tr>\n<tr>\n<td>0</td>\n<td>Bulbasaur</td>\n<td>Grass</td>\n<td>Poison</td>\n<td>45</td>\n<td>49</td>\n</tr>\n<tr>\n<td>1</td>\n<td>Ivysaur</td>\n<td>Grass</td>\n<td>Poison</td>\n<td>60</td>\n<td>62</td>\n</tr>\n<tr>\n<td>2</td>\n<td>Venusaur</td>\n<td>Grass</td>\n<td>Poison</td>\n<td>80</td>\n<td>82</td>\n</tr>\n<tr>\n<td>3</td>\n<td>VenusaurMega</td>\n<td>Grass</td>\n<td>Poison</td>\n<td>80</td>\n<td>100</td>\n</tr>\n<tr>\n<td>4</td>\n<td></td>\n<td></td>\n<td></td>\n<td></td>\n<td></td>\n</tr>\n<tr>\n<td>5</td>\n<td></td>\n<td></td>\n<td></td>\n<td></td>\n<td></td>\n</tr>\n<tr>\n<td>6</td>\n<td></td>\n<td></td>\n<td></td>\n<td></td>\n<td></td>\n</tr>\n<tr>\n<td>7</td>\n<td></td>\n<td></td>\n<td></td>\n<td></td>\n<td></td>\n</tr>\n</table>",
            "text/plain": "+----+--------------+--------+--------+----+--------+\n| id | Name         | Type_1 | Type_2 | HP | Attack |\n+----+--------------+--------+--------+----+--------+\n| 0  | Bulbasaur    | Grass  | Poison | 45 | 49     |\n+----+--------------+--------+--------+----+--------+\n| 1  | Ivysaur      | Grass  | Poison | 60 | 62     |\n+----+--------------+--------+--------+----+--------+\n| 2  | Venusaur     | Grass  | Poison | 80 | 82     |\n+----+--------------+--------+--------+----+--------+\n| 3  | VenusaurMega | Grass  | Poison | 80 | 100    |\n+----+--------------+--------+--------+----+--------+\n| 4  |              |        |        |    |        |\n+----+--------------+--------+--------+----+--------+\n| 5  |              |        |        |    |        |\n+----+--------------+--------+--------+----+--------+\n| 6  |              |        |        |    |        |\n+----+--------------+--------+--------+----+--------+\n| 7  |              |        |        |    |        |\n+----+--------------+--------+--------+----+--------+"
          },
          "metadata": {}
        }
      ],
      "execution_count": 12
    },
    {
      "cell_type": "code",
      "source": "update pk \nset Name = 'Charizard',\t\n    Type_1 = 'Fire', \t\n    Type_2 = 'Flying',\t\n    HP = 78,\t\n    Attack = 84\nwhere id = 4",
      "metadata": {
        "trusted": true
      },
      "outputs": [],
      "execution_count": 13
    },
    {
      "cell_type": "code",
      "source": "select * from pk",
      "metadata": {
        "trusted": true
      },
      "outputs": [
        {
          "execution_count": 14,
          "output_type": "execute_result",
          "data": {
            "text/html": "<table>\n<tr>\n<th>id</th>\n<th>Name</th>\n<th>Type_1</th>\n<th>Type_2</th>\n<th>HP</th>\n<th>Attack</th>\n</tr>\n<tr>\n<td>0</td>\n<td>Bulbasaur</td>\n<td>Grass</td>\n<td>Poison</td>\n<td>45</td>\n<td>49</td>\n</tr>\n<tr>\n<td>1</td>\n<td>Ivysaur</td>\n<td>Grass</td>\n<td>Poison</td>\n<td>60</td>\n<td>62</td>\n</tr>\n<tr>\n<td>2</td>\n<td>Venusaur</td>\n<td>Grass</td>\n<td>Poison</td>\n<td>80</td>\n<td>82</td>\n</tr>\n<tr>\n<td>3</td>\n<td>VenusaurMega</td>\n<td>Grass</td>\n<td>Poison</td>\n<td>80</td>\n<td>100</td>\n</tr>\n<tr>\n<td>4</td>\n<td>Charizard</td>\n<td>Fire</td>\n<td>Flying</td>\n<td>78</td>\n<td>84</td>\n</tr>\n<tr>\n<td>5</td>\n<td></td>\n<td></td>\n<td></td>\n<td></td>\n<td></td>\n</tr>\n<tr>\n<td>6</td>\n<td></td>\n<td></td>\n<td></td>\n<td></td>\n<td></td>\n</tr>\n<tr>\n<td>7</td>\n<td></td>\n<td></td>\n<td></td>\n<td></td>\n<td></td>\n</tr>\n</table>",
            "text/plain": "+----+--------------+--------+--------+----+--------+\n| id | Name         | Type_1 | Type_2 | HP | Attack |\n+----+--------------+--------+--------+----+--------+\n| 0  | Bulbasaur    | Grass  | Poison | 45 | 49     |\n+----+--------------+--------+--------+----+--------+\n| 1  | Ivysaur      | Grass  | Poison | 60 | 62     |\n+----+--------------+--------+--------+----+--------+\n| 2  | Venusaur     | Grass  | Poison | 80 | 82     |\n+----+--------------+--------+--------+----+--------+\n| 3  | VenusaurMega | Grass  | Poison | 80 | 100    |\n+----+--------------+--------+--------+----+--------+\n| 4  | Charizard    | Fire   | Flying | 78 | 84     |\n+----+--------------+--------+--------+----+--------+\n| 5  |              |        |        |    |        |\n+----+--------------+--------+--------+----+--------+\n| 6  |              |        |        |    |        |\n+----+--------------+--------+--------+----+--------+\n| 7  |              |        |        |    |        |\n+----+--------------+--------+--------+----+--------+"
          },
          "metadata": {}
        }
      ],
      "execution_count": 14
    },
    {
      "cell_type": "code",
      "source": "",
      "metadata": {
        "trusted": true
      },
      "outputs": [],
      "execution_count": null
    }
  ]
}